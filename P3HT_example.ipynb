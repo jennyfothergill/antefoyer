{
 "cells": [
  {
   "cell_type": "markdown",
   "metadata": {},
   "source": [
    "### Environment setup\n",
    "```conda create -n -y antefoyer -c conda-forge -c mosdef -c omnia -c ambermd ambertools numpy 'foyer>=0.7.2' mbuild jupyterlab hoomd openbabel\n",
    "git clone https://github.com/rsdefever/antefoyer\n",
    "cd antefoyer/.\n",
    "pip install .```"
   ]
  },
  {
   "cell_type": "code",
   "execution_count": 1,
   "metadata": {},
   "outputs": [
    {
     "name": "stderr",
     "output_type": "stream",
     "text": [
      "/Users/Jenny/miniconda/envs/antefoyer/lib/python3.7/site-packages/hoomd/meta.py:26: DeprecationWarning: Using or importing the ABCs from 'collections' instead of from 'collections.abc' is deprecated since Python 3.3,and in 3.9 it will stop working\n",
      "  from collections import Mapping\n"
     ]
    }
   ],
   "source": [
    "import foyer\n",
    "import mbuild as mb\n",
    "import parmed as pmd\n",
    "import hoomd\n",
    "import numpy as np"
   ]
  },
  {
   "cell_type": "code",
   "execution_count": 2,
   "metadata": {},
   "outputs": [
    {
     "name": "stderr",
     "output_type": "stream",
     "text": [
      "/Users/Jenny/miniconda/envs/antefoyer/lib/python3.7/site-packages/openbabel/__init__.py:14: UserWarning: \"import openbabel\" is deprecated, instead use \"from openbabel import openbabel\"\n",
      "  warnings.warn('\"import openbabel\" is deprecated, instead use \"from openbabel import openbabel\"')\n",
      "/Users/Jenny/miniconda/envs/antefoyer/lib/python3.7/site-packages/mbuild/compound.py:2716: UserWarning: No unitcell detected for pybel.Molecule c1sccc1CCCCCC\t\n",
      "\n",
      "  warn(\"No unitcell detected for pybel.Molecule {}\".format(pybel_mol))\n"
     ]
    }
   ],
   "source": [
    "'''\n",
    "These steps below are essentially trying to recreate the process in planckton/placnkton/init.py\n",
    "The goal is to start with a smiles string rather than an already typed .mol2 file\n",
    "'''\n",
    "# Set up compound\n",
    "p3ht_smi = 'c1sccc1CCCCCC'\n",
    "comp_mb = mb.load(p3ht_smi, smiles = True)\n",
    "\n",
    "# Find compound mass\n",
    "comp_pmd = comp_mb.to_parmed()\n",
    "comp_mass = np.sum([atom.mass for atom in comp_pmd.atoms])\n",
    "comp_mb.mass = comp_mass"
   ]
  },
  {
   "cell_type": "code",
   "execution_count": 6,
   "metadata": {},
   "outputs": [
    {
     "name": "stderr",
     "output_type": "stream",
     "text": [
      "/Users/Jenny/miniconda/envs/antefoyer/lib/python3.7/site-packages/foyer/validator.py:132: ValidationWarning: You have empty smart definition(s)\n",
      "  warn(\"You have empty smart definition(s)\", ValidationWarning)\n"
     ]
    },
    {
     "ename": "FoyerError",
     "evalue": "Found no types for atom 0 (carbon).",
     "output_type": "error",
     "traceback": [
      "\u001b[0;31m---------------------------------------------------------------------------\u001b[0m",
      "\u001b[0;31mFoyerError\u001b[0m                                Traceback (most recent call last)",
      "\u001b[0;32m<ipython-input-6-1120c7db7bd5>\u001b[0m in \u001b[0;36m<module>\u001b[0;34m\u001b[0m\n\u001b[1;32m      1\u001b[0m \u001b[0moplsaa\u001b[0m \u001b[0;34m=\u001b[0m \u001b[0mfoyer\u001b[0m\u001b[0;34m.\u001b[0m\u001b[0mforcefields\u001b[0m\u001b[0;34m.\u001b[0m\u001b[0mload_OPLSAA\u001b[0m\u001b[0;34m(\u001b[0m\u001b[0;34m)\u001b[0m\u001b[0;34m\u001b[0m\u001b[0;34m\u001b[0m\u001b[0m\n\u001b[0;32m----> 2\u001b[0;31m \u001b[0mp3ht_oplsaa\u001b[0m \u001b[0;34m=\u001b[0m \u001b[0moplsaa\u001b[0m\u001b[0;34m.\u001b[0m\u001b[0mapply\u001b[0m\u001b[0;34m(\u001b[0m\u001b[0mcomp_pmd\u001b[0m\u001b[0;34m)\u001b[0m\u001b[0;34m\u001b[0m\u001b[0;34m\u001b[0m\u001b[0m\n\u001b[0m",
      "\u001b[0;32m~/miniconda/envs/antefoyer/lib/python3.7/site-packages/foyer/forcefield.py\u001b[0m in \u001b[0;36mapply\u001b[0;34m(self, topology, references_file, use_residue_map, assert_bond_params, assert_angle_params, assert_dihedral_params, assert_improper_params, combining_rule, verbose, *args, **kwargs)\u001b[0m\n\u001b[1;32m    491\u001b[0m         \u001b[0mtopology\u001b[0m\u001b[0;34m,\u001b[0m \u001b[0mpositions\u001b[0m \u001b[0;34m=\u001b[0m \u001b[0mself\u001b[0m\u001b[0;34m.\u001b[0m\u001b[0m_prepare_topology\u001b[0m\u001b[0;34m(\u001b[0m\u001b[0mtopology\u001b[0m\u001b[0;34m,\u001b[0m \u001b[0;34m**\u001b[0m\u001b[0mkwargs\u001b[0m\u001b[0;34m)\u001b[0m\u001b[0;34m\u001b[0m\u001b[0;34m\u001b[0m\u001b[0m\n\u001b[1;32m    492\u001b[0m \u001b[0;34m\u001b[0m\u001b[0m\n\u001b[0;32m--> 493\u001b[0;31m         \u001b[0mtypemap\u001b[0m \u001b[0;34m=\u001b[0m \u001b[0mself\u001b[0m\u001b[0;34m.\u001b[0m\u001b[0mrun_atomtyping\u001b[0m\u001b[0;34m(\u001b[0m\u001b[0mtopology\u001b[0m\u001b[0;34m,\u001b[0m \u001b[0muse_residue_map\u001b[0m\u001b[0;34m=\u001b[0m\u001b[0muse_residue_map\u001b[0m\u001b[0;34m)\u001b[0m\u001b[0;34m\u001b[0m\u001b[0;34m\u001b[0m\u001b[0m\n\u001b[0m\u001b[1;32m    494\u001b[0m \u001b[0;34m\u001b[0m\u001b[0m\n\u001b[1;32m    495\u001b[0m         \u001b[0mself\u001b[0m\u001b[0;34m.\u001b[0m\u001b[0m_apply_typemap\u001b[0m\u001b[0;34m(\u001b[0m\u001b[0mtopology\u001b[0m\u001b[0;34m,\u001b[0m \u001b[0mtypemap\u001b[0m\u001b[0;34m)\u001b[0m\u001b[0;34m\u001b[0m\u001b[0;34m\u001b[0m\u001b[0m\n",
      "\u001b[0;32m~/miniconda/envs/antefoyer/lib/python3.7/site-packages/foyer/forcefield.py\u001b[0m in \u001b[0;36mrun_atomtyping\u001b[0;34m(self, topology, use_residue_map)\u001b[0m\n\u001b[1;32m    527\u001b[0m                     \u001b[0;32mif\u001b[0m \u001b[0mres\u001b[0m\u001b[0;34m.\u001b[0m\u001b[0mname\u001b[0m \u001b[0;32mnot\u001b[0m \u001b[0;32min\u001b[0m \u001b[0mresidue_map\u001b[0m\u001b[0;34m.\u001b[0m\u001b[0mkeys\u001b[0m\u001b[0;34m(\u001b[0m\u001b[0;34m)\u001b[0m\u001b[0;34m:\u001b[0m\u001b[0;34m\u001b[0m\u001b[0;34m\u001b[0m\u001b[0m\n\u001b[1;32m    528\u001b[0m                         \u001b[0mresidue\u001b[0m \u001b[0;34m=\u001b[0m \u001b[0m_topology_from_residue\u001b[0m\u001b[0;34m(\u001b[0m\u001b[0mres\u001b[0m\u001b[0;34m)\u001b[0m\u001b[0;34m\u001b[0m\u001b[0;34m\u001b[0m\u001b[0m\n\u001b[0;32m--> 529\u001b[0;31m                         \u001b[0mtypemap\u001b[0m \u001b[0;34m=\u001b[0m \u001b[0mfind_atomtypes\u001b[0m\u001b[0;34m(\u001b[0m\u001b[0mresidue\u001b[0m\u001b[0;34m,\u001b[0m \u001b[0mforcefield\u001b[0m\u001b[0;34m=\u001b[0m\u001b[0mself\u001b[0m\u001b[0;34m)\u001b[0m\u001b[0;34m\u001b[0m\u001b[0;34m\u001b[0m\u001b[0m\n\u001b[0m\u001b[1;32m    530\u001b[0m                         \u001b[0mresidue_map\u001b[0m\u001b[0;34m[\u001b[0m\u001b[0mres\u001b[0m\u001b[0;34m.\u001b[0m\u001b[0mname\u001b[0m\u001b[0;34m]\u001b[0m \u001b[0;34m=\u001b[0m \u001b[0mtypemap\u001b[0m\u001b[0;34m\u001b[0m\u001b[0;34m\u001b[0m\u001b[0m\n\u001b[1;32m    531\u001b[0m \u001b[0;34m\u001b[0m\u001b[0m\n",
      "\u001b[0;32m~/miniconda/envs/antefoyer/lib/python3.7/site-packages/foyer/atomtyper.py\u001b[0m in \u001b[0;36mfind_atomtypes\u001b[0;34m(topology, forcefield, max_iter)\u001b[0m\n\u001b[1;32m     45\u001b[0m \u001b[0;34m\u001b[0m\u001b[0m\n\u001b[1;32m     46\u001b[0m     \u001b[0m_iterate_rules\u001b[0m\u001b[0;34m(\u001b[0m\u001b[0mrules\u001b[0m\u001b[0;34m,\u001b[0m \u001b[0mtopology\u001b[0m\u001b[0;34m,\u001b[0m \u001b[0mtypemap\u001b[0m\u001b[0;34m,\u001b[0m \u001b[0mmax_iter\u001b[0m\u001b[0;34m=\u001b[0m\u001b[0mmax_iter\u001b[0m\u001b[0;34m)\u001b[0m\u001b[0;34m\u001b[0m\u001b[0;34m\u001b[0m\u001b[0m\n\u001b[0;32m---> 47\u001b[0;31m     \u001b[0m_resolve_atomtypes\u001b[0m\u001b[0;34m(\u001b[0m\u001b[0mtopology\u001b[0m\u001b[0;34m,\u001b[0m \u001b[0mtypemap\u001b[0m\u001b[0;34m)\u001b[0m\u001b[0;34m\u001b[0m\u001b[0;34m\u001b[0m\u001b[0m\n\u001b[0m\u001b[1;32m     48\u001b[0m \u001b[0;34m\u001b[0m\u001b[0m\n\u001b[1;32m     49\u001b[0m     \u001b[0;32mreturn\u001b[0m \u001b[0mtypemap\u001b[0m\u001b[0;34m\u001b[0m\u001b[0;34m\u001b[0m\u001b[0m\n",
      "\u001b[0;32m~/miniconda/envs/antefoyer/lib/python3.7/site-packages/foyer/atomtyper.py\u001b[0m in \u001b[0;36m_resolve_atomtypes\u001b[0;34m(topology, typemap)\u001b[0m\n\u001b[1;32m    117\u001b[0m         \u001b[0;32melse\u001b[0m\u001b[0;34m:\u001b[0m\u001b[0;34m\u001b[0m\u001b[0;34m\u001b[0m\u001b[0m\n\u001b[1;32m    118\u001b[0m             raise FoyerError(\"Found no types for atom {} ({}).\".format(\n\u001b[0;32m--> 119\u001b[0;31m                 atom_id, atoms[atom_id].element.name))\n\u001b[0m",
      "\u001b[0;31mFoyerError\u001b[0m: Found no types for atom 0 (carbon)."
     ]
    }
   ],
   "source": [
    "oplsaa = foyer.forcefields.load_OPLSAA()\n",
    "p3ht_oplsaa = oplsaa.apply(comp_pmd)"
   ]
  },
  {
   "cell_type": "code",
   "execution_count": 3,
   "metadata": {},
   "outputs": [
    {
     "ename": "AttributeError",
     "evalue": "module 'foyer.forcefields.forcefields' has no attribute 'load_GAFF'",
     "output_type": "error",
     "traceback": [
      "\u001b[0;31m---------------------------------------------------------------------------\u001b[0m",
      "\u001b[0;31mAttributeError\u001b[0m                            Traceback (most recent call last)",
      "\u001b[0;32m<ipython-input-3-aaa8199be100>\u001b[0m in \u001b[0;36m<module>\u001b[0;34m\u001b[0m\n\u001b[1;32m      1\u001b[0m \u001b[0;31m# Load GAFF\u001b[0m\u001b[0;34m\u001b[0m\u001b[0;34m\u001b[0m\u001b[0;34m\u001b[0m\u001b[0m\n\u001b[0;32m----> 2\u001b[0;31m \u001b[0mGAFF\u001b[0m \u001b[0;34m=\u001b[0m \u001b[0mfoyer\u001b[0m\u001b[0;34m.\u001b[0m\u001b[0mforcefields\u001b[0m\u001b[0;34m.\u001b[0m\u001b[0mload_GAFF\u001b[0m\u001b[0;34m(\u001b[0m\u001b[0;34m)\u001b[0m\u001b[0;34m\u001b[0m\u001b[0;34m\u001b[0m\u001b[0m\n\u001b[0m\u001b[1;32m      3\u001b[0m \u001b[0;34m\u001b[0m\u001b[0m\n\u001b[1;32m      4\u001b[0m \u001b[0;31m# Use foyer to parameterize\u001b[0m\u001b[0;34m\u001b[0m\u001b[0;34m\u001b[0m\u001b[0;34m\u001b[0m\u001b[0m\n\u001b[1;32m      5\u001b[0m \u001b[0mparmaeterized_molecule\u001b[0m \u001b[0;34m=\u001b[0m \u001b[0mGAFF\u001b[0m\u001b[0;34m.\u001b[0m\u001b[0mapply\u001b[0m\u001b[0;34m(\u001b[0m\u001b[0mcomp_pmd\u001b[0m\u001b[0;34m)\u001b[0m\u001b[0;34m\u001b[0m\u001b[0;34m\u001b[0m\u001b[0m\n",
      "\u001b[0;31mAttributeError\u001b[0m: module 'foyer.forcefields.forcefields' has no attribute 'load_GAFF'"
     ]
    }
   ],
   "source": [
    "# Load GAFF\n",
    "GAFF = foyer.forcefields.load_GAFF()\n",
    "\n",
    "# Use foyer to parameterize\n",
    "parmaeterized_molecule = GAFF.apply(comp_pmd)"
   ]
  },
  {
   "cell_type": "code",
   "execution_count": 4,
   "metadata": {},
   "outputs": [],
   "source": [
    "import antefoyer"
   ]
  },
  {
   "cell_type": "code",
   "execution_count": 5,
   "metadata": {},
   "outputs": [
    {
     "ename": "AttributeError",
     "evalue": "module 'foyer.forcefields.forcefields' has no attribute 'load_GAFF'",
     "output_type": "error",
     "traceback": [
      "\u001b[0;31m---------------------------------------------------------------------------\u001b[0m",
      "\u001b[0;31mAttributeError\u001b[0m                            Traceback (most recent call last)",
      "\u001b[0;32m<ipython-input-5-e4b2ea88bd27>\u001b[0m in \u001b[0;36m<module>\u001b[0;34m\u001b[0m\n\u001b[1;32m      1\u001b[0m \u001b[0;31m# Load GAFF\u001b[0m\u001b[0;34m\u001b[0m\u001b[0;34m\u001b[0m\u001b[0;34m\u001b[0m\u001b[0m\n\u001b[0;32m----> 2\u001b[0;31m \u001b[0mGAFF\u001b[0m \u001b[0;34m=\u001b[0m \u001b[0mfoyer\u001b[0m\u001b[0;34m.\u001b[0m\u001b[0mforcefields\u001b[0m\u001b[0;34m.\u001b[0m\u001b[0mload_GAFF\u001b[0m\u001b[0;34m(\u001b[0m\u001b[0;34m)\u001b[0m\u001b[0;34m\u001b[0m\u001b[0;34m\u001b[0m\u001b[0m\n\u001b[0m\u001b[1;32m      3\u001b[0m \u001b[0;34m\u001b[0m\u001b[0m\n\u001b[1;32m      4\u001b[0m \u001b[0;31m# Identify GAFF atomtypes with antechamber\u001b[0m\u001b[0;34m\u001b[0m\u001b[0;34m\u001b[0m\u001b[0;34m\u001b[0m\u001b[0m\n\u001b[1;32m      5\u001b[0m \u001b[0mtyped_molecule\u001b[0m \u001b[0;34m=\u001b[0m \u001b[0mantefoyer\u001b[0m\u001b[0;34m.\u001b[0m\u001b[0mante_atomtyping\u001b[0m\u001b[0;34m(\u001b[0m\u001b[0mcomp_mb\u001b[0m\u001b[0;34m,\u001b[0m\u001b[0;34m'gaff'\u001b[0m\u001b[0;34m)\u001b[0m\u001b[0;34m\u001b[0m\u001b[0;34m\u001b[0m\u001b[0m\n",
      "\u001b[0;31mAttributeError\u001b[0m: module 'foyer.forcefields.forcefields' has no attribute 'load_GAFF'"
     ]
    }
   ],
   "source": [
    "# Load GAFF\n",
    "GAFF = foyer.forcefields.load_GAFF()\n",
    "\n",
    "# Identify GAFF atomtypes with antechamber\n",
    "typed_molecule = antefoyer.ante_atomtyping(comp_mb,'gaff')\n",
    "\n",
    "# Use foyer to parameterize\n",
    "parameterized_molecule = GAFF.apply(typed_molecule, run_atomtyping=False)\n",
    "\n",
    "# We can also apply AM1-BCC charges from antechamber\n",
    "molecule_with_charges = antefoyer.ante_charges(parameterized_molecule,'bcc')\n",
    "\n",
    "# Save to whatever file format you desire"
   ]
  },
  {
   "cell_type": "code",
   "execution_count": 8,
   "metadata": {},
   "outputs": [
    {
     "name": "stdout",
     "output_type": "stream",
     "text": [
      "0.7.3\n"
     ]
    }
   ],
   "source": [
    "print(foyer.version)"
   ]
  },
  {
   "cell_type": "code",
   "execution_count": null,
   "metadata": {},
   "outputs": [],
   "source": []
  },
  {
   "cell_type": "code",
   "execution_count": null,
   "metadata": {},
   "outputs": [],
   "source": []
  }
 ],
 "metadata": {
  "kernelspec": {
   "display_name": "Python 3",
   "language": "python",
   "name": "python3"
  },
  "language_info": {
   "codemirror_mode": {
    "name": "ipython",
    "version": 3
   },
   "file_extension": ".py",
   "mimetype": "text/x-python",
   "name": "python",
   "nbconvert_exporter": "python",
   "pygments_lexer": "ipython3",
   "version": "3.7.6"
  }
 },
 "nbformat": 4,
 "nbformat_minor": 4
}
