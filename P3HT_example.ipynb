{
 "cells": [
  {
   "cell_type": "markdown",
   "metadata": {},
   "source": [
    "### Environment setup\n",
    "```\n",
    "conda create -y -n antefoyer -c conda-forge -c mosdef -c omnia -c ambermd ambertools numpy mbuild jupyterlab hoomd openbabel py3Dmol openmm networkx lark-parser lxml requests 'foyer=0.7.3'\n",
    "git clone git@github.com:rsdefever/GAFF-foyer.git\n",
    "cd GAFF-foyer\n",
    "pip install .\n",
    "git clone git@github.com:rsdefever/antefoyer\n",
    "cd antefoyer\n",
    "pip install .\n",
    "```"
   ]
  },
  {
   "cell_type": "code",
   "execution_count": 1,
   "metadata": {},
   "outputs": [
    {
     "name": "stderr",
     "output_type": "stream",
     "text": [
      "/Users/jenny/miniconda3/envs/antefoyer-test/lib/python3.7/site-packages/hoomd/meta.py:26: DeprecationWarning: Using or importing the ABCs from 'collections' instead of from 'collections.abc' is deprecated since Python 3.3,and in 3.9 it will stop working\n",
      "  from collections import Mapping\n"
     ]
    }
   ],
   "source": [
    "import foyer\n",
    "import mbuild as mb\n",
    "import parmed as pmd\n",
    "import hoomd\n",
    "import numpy as np"
   ]
  },
  {
   "cell_type": "code",
   "execution_count": 2,
   "metadata": {},
   "outputs": [
    {
     "name": "stderr",
     "output_type": "stream",
     "text": [
      "/Users/jenny/miniconda3/envs/antefoyer-test/lib/python3.7/site-packages/openbabel/__init__.py:14: UserWarning: \"import openbabel\" is deprecated, instead use \"from openbabel import openbabel\"\n",
      "  warnings.warn('\"import openbabel\" is deprecated, instead use \"from openbabel import openbabel\"')\n",
      "/Users/jenny/miniconda3/envs/antefoyer-test/lib/python3.7/site-packages/mbuild/compound.py:2749: UserWarning: No unitcell detected for pybel.Molecule c1cscc1CCCCCC\t\n",
      "\n",
      "  warn(\"No unitcell detected for pybel.Molecule {}\".format(pybel_mol))\n"
     ]
    }
   ],
   "source": [
    "smiles = 'c1cscc1CCCCCC'\n",
    "#smiles = 'c1ccccc1'\n",
    "compound = mb.load(smiles, smiles = True)\n",
    "\n",
    "pmd_molecule = compound.to_parmed()\n",
    "#compound.visualize()"
   ]
  },
  {
   "cell_type": "code",
   "execution_count": null,
   "metadata": {},
   "outputs": [],
   "source": [
    "oplsaa = foyer.forcefields.load_OPLSAA()\n",
    "typed_oplsaa = oplsaa.apply(pmd_molecule)"
   ]
  },
  {
   "cell_type": "code",
   "execution_count": 5,
   "metadata": {},
   "outputs": [
    {
     "name": "stderr",
     "output_type": "stream",
     "text": [
      "/Users/jenny/miniconda3/envs/antefoyer-test/lib/python3.7/site-packages/foyer/validator.py:132: ValidationWarning: You have empty smart definition(s)\n",
      "  warn(\"You have empty smart definition(s)\", ValidationWarning)\n"
     ]
    },
    {
     "ename": "Exception",
     "evalue": "Parameters have not been assigned to all proper dihedrals. Total system dihedrals: 67, Parameterized dihedrals: 63. Note that if your system contains torsions of Ryckaert-Bellemans functional form, all of these torsions are processed as propers.",
     "output_type": "error",
     "traceback": [
      "\u001b[0;31m---------------------------------------------------\u001b[0m",
      "\u001b[0;31mException\u001b[0m         Traceback (most recent call last)",
      "\u001b[0;32m<ipython-input-5-f027a81b5901>\u001b[0m in \u001b[0;36m<module>\u001b[0;34m\u001b[0m\n\u001b[1;32m      3\u001b[0m \u001b[0;34m\u001b[0m\u001b[0m\n\u001b[1;32m      4\u001b[0m \u001b[0;31m# Use foyer to parameterize\u001b[0m\u001b[0;34m\u001b[0m\u001b[0;34m\u001b[0m\u001b[0;34m\u001b[0m\u001b[0m\n\u001b[0;32m----> 5\u001b[0;31m \u001b[0mparmaeterized_molecule\u001b[0m \u001b[0;34m=\u001b[0m \u001b[0mGAFF\u001b[0m\u001b[0;34m.\u001b[0m\u001b[0mapply\u001b[0m\u001b[0;34m(\u001b[0m\u001b[0mpmd_molecule\u001b[0m\u001b[0;34m,\u001b[0m \u001b[0massert_dihedrals\u001b[0m\u001b[0;34m=\u001b[0m\u001b[0;32mFalse\u001b[0m\u001b[0;34m)\u001b[0m\u001b[0;34m\u001b[0m\u001b[0;34m\u001b[0m\u001b[0m\n\u001b[0m",
      "\u001b[0;32m~/miniconda3/envs/antefoyer-test/lib/python3.7/site-packages/foyer/forcefield.py\u001b[0m in \u001b[0;36mapply\u001b[0;34m(self, topology, references_file, use_residue_map, assert_bond_params, assert_angle_params, assert_dihedral_params, assert_improper_params, combining_rule, verbose, *args, **kwargs)\u001b[0m\n\u001b[1;32m    499\u001b[0m             \u001b[0massert_angle_params\u001b[0m\u001b[0;34m=\u001b[0m\u001b[0massert_angle_params\u001b[0m\u001b[0;34m,\u001b[0m \u001b[0massert_dihedral_params\u001b[0m\u001b[0;34m=\u001b[0m\u001b[0massert_dihedral_params\u001b[0m\u001b[0;34m,\u001b[0m\u001b[0;34m\u001b[0m\u001b[0;34m\u001b[0m\u001b[0m\n\u001b[1;32m    500\u001b[0m             \u001b[0massert_improper_params\u001b[0m\u001b[0;34m=\u001b[0m\u001b[0massert_improper_params\u001b[0m\u001b[0;34m,\u001b[0m \u001b[0mcombining_rule\u001b[0m\u001b[0;34m=\u001b[0m\u001b[0mcombining_rule\u001b[0m\u001b[0;34m,\u001b[0m\u001b[0;34m\u001b[0m\u001b[0;34m\u001b[0m\u001b[0m\n\u001b[0;32m--> 501\u001b[0;31m             verbose=verbose, *args, **kwargs)\n\u001b[0m\u001b[1;32m    502\u001b[0m \u001b[0;34m\u001b[0m\u001b[0m\n\u001b[1;32m    503\u001b[0m     \u001b[0;32mdef\u001b[0m \u001b[0mrun_atomtyping\u001b[0m\u001b[0;34m(\u001b[0m\u001b[0mself\u001b[0m\u001b[0;34m,\u001b[0m \u001b[0mtopology\u001b[0m\u001b[0;34m,\u001b[0m \u001b[0muse_residue_map\u001b[0m\u001b[0;34m=\u001b[0m\u001b[0;32mTrue\u001b[0m\u001b[0;34m)\u001b[0m\u001b[0;34m:\u001b[0m\u001b[0;34m\u001b[0m\u001b[0;34m\u001b[0m\u001b[0m\n",
      "\u001b[0;32m~/miniconda3/envs/antefoyer-test/lib/python3.7/site-packages/foyer/forcefield.py\u001b[0m in \u001b[0;36mparametrize_system\u001b[0;34m(self, topology, positions, references_file, assert_bond_params, assert_angle_params, assert_dihedral_params, assert_improper_params, combining_rule, verbose, *args, **kwargs)\u001b[0m\n\u001b[1;32m    567\u001b[0m         \u001b[0m_check_angles\u001b[0m\u001b[0;34m(\u001b[0m\u001b[0mdata\u001b[0m\u001b[0;34m,\u001b[0m \u001b[0mstructure\u001b[0m\u001b[0;34m,\u001b[0m \u001b[0mverbose\u001b[0m\u001b[0;34m,\u001b[0m \u001b[0massert_angle_params\u001b[0m\u001b[0;34m)\u001b[0m\u001b[0;34m\u001b[0m\u001b[0;34m\u001b[0m\u001b[0m\n\u001b[1;32m    568\u001b[0m         _check_dihedrals(data, structure, verbose,\n\u001b[0;32m--> 569\u001b[0;31m                               assert_dihedral_params, assert_improper_params)\n\u001b[0m\u001b[1;32m    570\u001b[0m \u001b[0;34m\u001b[0m\u001b[0m\n\u001b[1;32m    571\u001b[0m         \u001b[0;32mif\u001b[0m \u001b[0mreferences_file\u001b[0m\u001b[0;34m:\u001b[0m\u001b[0;34m\u001b[0m\u001b[0;34m\u001b[0m\u001b[0m\n",
      "\u001b[0;32m~/miniconda3/envs/antefoyer-test/lib/python3.7/site-packages/foyer/forcefield.py\u001b[0m in \u001b[0;36m_check_dihedrals\u001b[0;34m(data, structure, verbose, assert_dihedral_params, assert_improper_params)\u001b[0m\n\u001b[1;32m    307\u001b[0m                \"processed as propers.\".format(len(data.propers),\n\u001b[1;32m    308\u001b[0m                                               len(proper_dihedrals) + len(structure.rb_torsions)))\n\u001b[0;32m--> 309\u001b[0;31m         \u001b[0m_error_or_warn\u001b[0m\u001b[0;34m(\u001b[0m\u001b[0massert_dihedral_params\u001b[0m\u001b[0;34m,\u001b[0m \u001b[0mmsg\u001b[0m\u001b[0;34m)\u001b[0m\u001b[0;34m\u001b[0m\u001b[0;34m\u001b[0m\u001b[0m\n\u001b[0m\u001b[1;32m    310\u001b[0m \u001b[0;34m\u001b[0m\u001b[0m\n\u001b[1;32m    311\u001b[0m     improper_dihedrals = [dihedral for dihedral in structure.dihedrals\n",
      "\u001b[0;32m~/miniconda3/envs/antefoyer-test/lib/python3.7/site-packages/foyer/forcefield.py\u001b[0m in \u001b[0;36m_error_or_warn\u001b[0;34m(error, msg)\u001b[0m\n\u001b[1;32m    244\u001b[0m     \"\"\"\n\u001b[1;32m    245\u001b[0m     \u001b[0;32mif\u001b[0m \u001b[0merror\u001b[0m\u001b[0;34m:\u001b[0m\u001b[0;34m\u001b[0m\u001b[0;34m\u001b[0m\u001b[0m\n\u001b[0;32m--> 246\u001b[0;31m         \u001b[0;32mraise\u001b[0m \u001b[0mException\u001b[0m\u001b[0;34m(\u001b[0m\u001b[0mmsg\u001b[0m\u001b[0;34m)\u001b[0m\u001b[0;34m\u001b[0m\u001b[0;34m\u001b[0m\u001b[0m\n\u001b[0m\u001b[1;32m    247\u001b[0m     \u001b[0;32melse\u001b[0m\u001b[0;34m:\u001b[0m\u001b[0;34m\u001b[0m\u001b[0;34m\u001b[0m\u001b[0m\n\u001b[1;32m    248\u001b[0m         \u001b[0mwarnings\u001b[0m\u001b[0;34m.\u001b[0m\u001b[0mwarn\u001b[0m\u001b[0;34m(\u001b[0m\u001b[0mmsg\u001b[0m\u001b[0;34m)\u001b[0m\u001b[0;34m\u001b[0m\u001b[0;34m\u001b[0m\u001b[0m\n",
      "\u001b[0;31mException\u001b[0m: Parameters have not been assigned to all proper dihedrals. Total system dihedrals: 67, Parameterized dihedrals: 63. Note that if your system contains torsions of Ryckaert-Bellemans functional form, all of these torsions are processed as propers."
     ]
    }
   ],
   "source": [
    "# Load GAFF\n",
    "GAFF = foyer.forcefields.load_GAFF()\n",
    "\n",
    "# Use foyer to parameterize\n",
    "parmaeterized_molecule = GAFF.apply(pmd_molecule, assert_dihedrals=False)"
   ]
  },
  {
   "cell_type": "code",
   "execution_count": 6,
   "metadata": {},
   "outputs": [],
   "source": [
    "import antefoyer"
   ]
  },
  {
   "cell_type": "code",
   "execution_count": 8,
   "metadata": {},
   "outputs": [
    {
     "ename": "Exception",
     "evalue": "Parameters have not been assigned to all proper dihedrals. Total system dihedrals: 67, Parameterized dihedrals: 63. Note that if your system contains torsions of Ryckaert-Bellemans functional form, all of these torsions are processed as propers.",
     "output_type": "error",
     "traceback": [
      "\u001b[0;31m---------------------------------------------------\u001b[0m",
      "\u001b[0;31mException\u001b[0m         Traceback (most recent call last)",
      "\u001b[0;32m<ipython-input-8-700e85540d92>\u001b[0m in \u001b[0;36m<module>\u001b[0;34m\u001b[0m\n\u001b[1;32m     12\u001b[0m \u001b[0;34m\u001b[0m\u001b[0m\n\u001b[1;32m     13\u001b[0m \u001b[0;31m# Use foyer to parameterize\u001b[0m\u001b[0;34m\u001b[0m\u001b[0;34m\u001b[0m\u001b[0;34m\u001b[0m\u001b[0m\n\u001b[0;32m---> 14\u001b[0;31m \u001b[0mparameterized_molecule\u001b[0m \u001b[0;34m=\u001b[0m \u001b[0mGAFF\u001b[0m\u001b[0;34m.\u001b[0m\u001b[0mapply\u001b[0m\u001b[0;34m(\u001b[0m\u001b[0mtyped_molecule\u001b[0m\u001b[0;34m,\u001b[0m \u001b[0mrun_atomtyping\u001b[0m\u001b[0;34m=\u001b[0m\u001b[0;32mFalse\u001b[0m\u001b[0;34m,\u001b[0m \u001b[0massert_dihedrals\u001b[0m\u001b[0;34m=\u001b[0m\u001b[0;32mFalse\u001b[0m\u001b[0;34m)\u001b[0m\u001b[0;34m\u001b[0m\u001b[0;34m\u001b[0m\u001b[0m\n\u001b[0m\u001b[1;32m     15\u001b[0m \u001b[0;34m\u001b[0m\u001b[0m\n\u001b[1;32m     16\u001b[0m \u001b[0;31m# We can also apply AM1-BCC charges from antechamber\u001b[0m\u001b[0;34m\u001b[0m\u001b[0;34m\u001b[0m\u001b[0;34m\u001b[0m\u001b[0m\n",
      "\u001b[0;32m~/miniconda3/envs/antefoyer-test/lib/python3.7/site-packages/foyer/forcefield.py\u001b[0m in \u001b[0;36mapply\u001b[0;34m(self, topology, references_file, use_residue_map, assert_bond_params, assert_angle_params, assert_dihedral_params, assert_improper_params, combining_rule, verbose, *args, **kwargs)\u001b[0m\n\u001b[1;32m    499\u001b[0m             \u001b[0massert_angle_params\u001b[0m\u001b[0;34m=\u001b[0m\u001b[0massert_angle_params\u001b[0m\u001b[0;34m,\u001b[0m \u001b[0massert_dihedral_params\u001b[0m\u001b[0;34m=\u001b[0m\u001b[0massert_dihedral_params\u001b[0m\u001b[0;34m,\u001b[0m\u001b[0;34m\u001b[0m\u001b[0;34m\u001b[0m\u001b[0m\n\u001b[1;32m    500\u001b[0m             \u001b[0massert_improper_params\u001b[0m\u001b[0;34m=\u001b[0m\u001b[0massert_improper_params\u001b[0m\u001b[0;34m,\u001b[0m \u001b[0mcombining_rule\u001b[0m\u001b[0;34m=\u001b[0m\u001b[0mcombining_rule\u001b[0m\u001b[0;34m,\u001b[0m\u001b[0;34m\u001b[0m\u001b[0;34m\u001b[0m\u001b[0m\n\u001b[0;32m--> 501\u001b[0;31m             verbose=verbose, *args, **kwargs)\n\u001b[0m\u001b[1;32m    502\u001b[0m \u001b[0;34m\u001b[0m\u001b[0m\n\u001b[1;32m    503\u001b[0m     \u001b[0;32mdef\u001b[0m \u001b[0mrun_atomtyping\u001b[0m\u001b[0;34m(\u001b[0m\u001b[0mself\u001b[0m\u001b[0;34m,\u001b[0m \u001b[0mtopology\u001b[0m\u001b[0;34m,\u001b[0m \u001b[0muse_residue_map\u001b[0m\u001b[0;34m=\u001b[0m\u001b[0;32mTrue\u001b[0m\u001b[0;34m)\u001b[0m\u001b[0;34m:\u001b[0m\u001b[0;34m\u001b[0m\u001b[0;34m\u001b[0m\u001b[0m\n",
      "\u001b[0;32m~/miniconda3/envs/antefoyer-test/lib/python3.7/site-packages/foyer/forcefield.py\u001b[0m in \u001b[0;36mparametrize_system\u001b[0;34m(self, topology, positions, references_file, assert_bond_params, assert_angle_params, assert_dihedral_params, assert_improper_params, combining_rule, verbose, *args, **kwargs)\u001b[0m\n\u001b[1;32m    567\u001b[0m         \u001b[0m_check_angles\u001b[0m\u001b[0;34m(\u001b[0m\u001b[0mdata\u001b[0m\u001b[0;34m,\u001b[0m \u001b[0mstructure\u001b[0m\u001b[0;34m,\u001b[0m \u001b[0mverbose\u001b[0m\u001b[0;34m,\u001b[0m \u001b[0massert_angle_params\u001b[0m\u001b[0;34m)\u001b[0m\u001b[0;34m\u001b[0m\u001b[0;34m\u001b[0m\u001b[0m\n\u001b[1;32m    568\u001b[0m         _check_dihedrals(data, structure, verbose,\n\u001b[0;32m--> 569\u001b[0;31m                               assert_dihedral_params, assert_improper_params)\n\u001b[0m\u001b[1;32m    570\u001b[0m \u001b[0;34m\u001b[0m\u001b[0m\n\u001b[1;32m    571\u001b[0m         \u001b[0;32mif\u001b[0m \u001b[0mreferences_file\u001b[0m\u001b[0;34m:\u001b[0m\u001b[0;34m\u001b[0m\u001b[0;34m\u001b[0m\u001b[0m\n",
      "\u001b[0;32m~/miniconda3/envs/antefoyer-test/lib/python3.7/site-packages/foyer/forcefield.py\u001b[0m in \u001b[0;36m_check_dihedrals\u001b[0;34m(data, structure, verbose, assert_dihedral_params, assert_improper_params)\u001b[0m\n\u001b[1;32m    307\u001b[0m                \"processed as propers.\".format(len(data.propers),\n\u001b[1;32m    308\u001b[0m                                               len(proper_dihedrals) + len(structure.rb_torsions)))\n\u001b[0;32m--> 309\u001b[0;31m         \u001b[0m_error_or_warn\u001b[0m\u001b[0;34m(\u001b[0m\u001b[0massert_dihedral_params\u001b[0m\u001b[0;34m,\u001b[0m \u001b[0mmsg\u001b[0m\u001b[0;34m)\u001b[0m\u001b[0;34m\u001b[0m\u001b[0;34m\u001b[0m\u001b[0m\n\u001b[0m\u001b[1;32m    310\u001b[0m \u001b[0;34m\u001b[0m\u001b[0m\n\u001b[1;32m    311\u001b[0m     improper_dihedrals = [dihedral for dihedral in structure.dihedrals\n",
      "\u001b[0;32m~/miniconda3/envs/antefoyer-test/lib/python3.7/site-packages/foyer/forcefield.py\u001b[0m in \u001b[0;36m_error_or_warn\u001b[0;34m(error, msg)\u001b[0m\n\u001b[1;32m    244\u001b[0m     \"\"\"\n\u001b[1;32m    245\u001b[0m     \u001b[0;32mif\u001b[0m \u001b[0merror\u001b[0m\u001b[0;34m:\u001b[0m\u001b[0;34m\u001b[0m\u001b[0;34m\u001b[0m\u001b[0m\n\u001b[0;32m--> 246\u001b[0;31m         \u001b[0;32mraise\u001b[0m \u001b[0mException\u001b[0m\u001b[0;34m(\u001b[0m\u001b[0mmsg\u001b[0m\u001b[0;34m)\u001b[0m\u001b[0;34m\u001b[0m\u001b[0;34m\u001b[0m\u001b[0m\n\u001b[0m\u001b[1;32m    247\u001b[0m     \u001b[0;32melse\u001b[0m\u001b[0;34m:\u001b[0m\u001b[0;34m\u001b[0m\u001b[0;34m\u001b[0m\u001b[0m\n\u001b[1;32m    248\u001b[0m         \u001b[0mwarnings\u001b[0m\u001b[0;34m.\u001b[0m\u001b[0mwarn\u001b[0m\u001b[0;34m(\u001b[0m\u001b[0mmsg\u001b[0m\u001b[0;34m)\u001b[0m\u001b[0;34m\u001b[0m\u001b[0;34m\u001b[0m\u001b[0m\n",
      "\u001b[0;31mException\u001b[0m: Parameters have not been assigned to all proper dihedrals. Total system dihedrals: 67, Parameterized dihedrals: 63. Note that if your system contains torsions of Ryckaert-Bellemans functional form, all of these torsions are processed as propers."
     ]
    }
   ],
   "source": [
    "# Load GAFF\n",
    "# I also tried installing GAFF-foyer\n",
    "# The way below will work but gives\n",
    "# `ValueError: Could not find force field with name gaff in path`\n",
    "#import gafffoyer\n",
    "#GAFF = gafffoyer.gafffoyer.load_GAFF()\n",
    "\n",
    "GAFF = foyer.forcefields.load_GAFF()\n",
    "\n",
    "# Identify GAFF atomtypes with antechamber\n",
    "typed_molecule = antefoyer.ante_atomtyping(compound,'gaff')\n",
    "\n",
    "# Use foyer to parameterize\n",
    "parameterized_molecule = GAFF.apply(typed_molecule, run_atomtyping=False, assert_dihedrals=False)\n",
    "\n",
    "# We can also apply AM1-BCC charges from antechamber\n",
    "molecule_with_charges = antefoyer.ante_charges(parameterized_molecule,'bcc')\n",
    "\n",
    "# Save to whatever file format you desire"
   ]
  },
  {
   "cell_type": "code",
   "execution_count": 8,
   "metadata": {},
   "outputs": [
    {
     "name": "stdout",
     "output_type": "stream",
     "text": [
      "0.7.3\n"
     ]
    }
   ],
   "source": [
    "print(foyer.version)"
   ]
  },
  {
   "cell_type": "code",
   "execution_count": null,
   "metadata": {},
   "outputs": [],
   "source": []
  }
 ],
 "metadata": {
  "kernelspec": {
   "display_name": "Python 3",
   "language": "python",
   "name": "python3"
  },
  "language_info": {
   "codemirror_mode": {
    "name": "ipython",
    "version": 3
   },
   "file_extension": ".py",
   "mimetype": "text/x-python",
   "name": "python",
   "nbconvert_exporter": "python",
   "pygments_lexer": "ipython3",
   "version": "3.7.6"
  }
 },
 "nbformat": 4,
 "nbformat_minor": 4
}
